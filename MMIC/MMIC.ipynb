{
 "cells": [
  {
   "cell_type": "code",
   "execution_count": 1,
   "metadata": {},
   "outputs": [],
   "source": [
    "import csv\n",
    "import json\n",
    "import os\n",
    "import sys"
   ]
  },
  {
   "cell_type": "code",
   "execution_count": 2,
   "metadata": {},
   "outputs": [],
   "source": [
    "def convert_csv_to_squad(input_csv_path, output_json_path):\n",
    "    \"\"\"\n",
    "    Convert the templates CSV file to SQuAD-like JSON format.\n",
    "    \n",
    "    CSV columns:\n",
    "    - dataset\n",
    "    - Input\n",
    "    - Question\n",
    "    - Logical Forms\n",
    "    - Answer Concepts\n",
    "    \n",
    "    Output JSON format:\n",
    "    {\n",
    "      \"data\": [\n",
    "        {\n",
    "          \"question\": \"...\",\n",
    "          \"context\": \"...\",\n",
    "          \"answer\": \"...\"\n",
    "        },\n",
    "        ...\n",
    "      ]\n",
    "    }\n",
    "    \"\"\"\n",
    "    squad_data = {\"data\": []}\n",
    "    \n",
    "    with open(input_csv_path, 'r', encoding='utf-8') as csvfile:\n",
    "        reader = csv.DictReader(csvfile)\n",
    "        \n",
    "        # Process each row\n",
    "        for row in reader:\n",
    "            entry = {\n",
    "                \"question\": row.get('Question', ''),\n",
    "                \"context\": row.get('Input', ''),\n",
    "                \"answer\": row.get('Answer Concepts', '')\n",
    "            }\n",
    "            \n",
    "            # Only add non-empty entries\n",
    "            if entry[\"question\"] and entry[\"context\"] and entry[\"answer\"]:\n",
    "                squad_data[\"data\"].append(entry)\n",
    "    \n",
    "    # Write output JSON file\n",
    "    with open(output_json_path, 'w', encoding='utf-8') as jsonfile:\n",
    "        json.dump(squad_data, jsonfile, indent=2, ensure_ascii=False)\n",
    "    \n",
    "    print(f\"Conversion complete! Created {output_json_path} with {len(squad_data['data'])} entries.\")\n",
    "    return True"
   ]
  },
  {
   "cell_type": "code",
   "execution_count": 4,
   "metadata": {},
   "outputs": [
    {
     "name": "stdout",
     "output_type": "stream",
     "text": [
      "Conversion complete! Created /Users/casey/Documents/GitHub/LLM_Healthcare/squad_format.json with 142 entries.\n",
      "Successfully converted /Users/casey/Documents/GitHub/LLM_Healthcare/templates-all.csv to /Users/casey/Documents/GitHub/LLM_Healthcare/squad_format.json\n"
     ]
    }
   ],
   "source": [
    "if __name__ == \"__main__\":\n",
    "    # Set paths directly in the script\n",
    "    input_csv_path = \"/Users/casey/Documents/GitHub/LLM_Healthcare/templates-all.csv\"\n",
    "    \n",
    "    # Create output path in the same directory\n",
    "    output_dir = os.path.dirname(input_csv_path)\n",
    "    output_json_path = os.path.join(output_dir, \"squad_format.json\")\n",
    "    \n",
    "    # Check if input file exists\n",
    "    if not os.path.exists(input_csv_path):\n",
    "        print(f\"Error: Input file {input_csv_path} does not exist.\")\n",
    "        exit(1)\n",
    "    \n",
    "    # Perform conversion\n",
    "    success = convert_csv_to_squad(input_csv_path, output_json_path)\n",
    "    \n",
    "    if success:\n",
    "        print(f\"Successfully converted {input_csv_path} to {output_json_path}\")\n",
    "    else:\n",
    "        print(\"Conversion failed\")"
   ]
  }
 ],
 "metadata": {
  "kernelspec": {
   "display_name": "base",
   "language": "python",
   "name": "python3"
  },
  "language_info": {
   "codemirror_mode": {
    "name": "ipython",
    "version": 3
   },
   "file_extension": ".py",
   "mimetype": "text/x-python",
   "name": "python",
   "nbconvert_exporter": "python",
   "pygments_lexer": "ipython3",
   "version": "3.12.2"
  }
 },
 "nbformat": 4,
 "nbformat_minor": 2
}
