{
 "cells": [
  {
   "cell_type": "markdown",
   "id": "7ee21f57",
   "metadata": {},
   "source": [
    "### Import data"
   ]
  },
  {
   "cell_type": "code",
   "execution_count": 3,
   "id": "f57a945c",
   "metadata": {},
   "outputs": [
    {
     "name": "stdout",
     "output_type": "stream",
     "text": [
      "DataFrame created with 182822 rows and 7 columns\n",
      "Columns: ['question', 'exp', 'cop', 'opa', 'opb', 'opc', 'opd']\n",
      "\n",
      "First 3 rows:\n",
      "                                            question  \\\n",
      "0  Chronic urethral obstruction due to benign pri...   \n",
      "1  Which vitamin is supplied from only animal sou...   \n",
      "2  All of the following are surgical options for ...   \n",
      "\n",
      "                                                 exp  cop  \\\n",
      "0  Chronic urethral obstruction because of urinar...    3   \n",
      "1  Ans. (c) Vitamin B12 Ref: Harrison's 19th ed. ...    3   \n",
      "2  Ans. is 'd' i.e., Roux en Y Duodenal Bypass Ba...    4   \n",
      "\n",
      "                          opa                        opb              opc  \\\n",
      "0                 Hyperplasia                  Hyperophy          Atrophy   \n",
      "1                   Vitamin C                 Vitamin B7      Vitamin B12   \n",
      "2  Adjustable gastric banding  Biliopancreatic diversion  Duodenal Switch   \n",
      "\n",
      "                          opd  \n",
      "0                    Dyplasia  \n",
      "1                   Vitamin D  \n",
      "2  Roux en Y Duodenal By pass  \n"
     ]
    }
   ],
   "source": [
    "import json\n",
    "import pandas as pd\n",
    "\n",
    "# Read the JSON file line by line\n",
    "data = []\n",
    "with open('/Users/bytedance/Desktop/medmcqa/train.json', 'r', encoding='utf-8') as file:\n",
    "    for line in file:\n",
    "        if line.strip():  # Skip empty lines\n",
    "            try:\n",
    "                json_obj = json.loads(line.strip())\n",
    "                # Extract only the specified columns\n",
    "                extracted_data = {\n",
    "                    'question': json_obj.get('question', ''),\n",
    "                    'exp': json_obj.get('exp', ''),\n",
    "                    'cop': json_obj.get('cop', ''),\n",
    "                    'opa': json_obj.get('opa', ''),\n",
    "                    'opb': json_obj.get('opb', ''),\n",
    "                    'opc': json_obj.get('opc', ''),\n",
    "                    'opd': json_obj.get('opd', '')\n",
    "                }\n",
    "                data.append(extracted_data)\n",
    "            except json.JSONDecodeError as e:\n",
    "                print(f\"Error parsing line: {line[:50]}... - {e}\")\n",
    "                continue\n",
    "\n",
    "# Create DataFrame\n",
    "df = pd.DataFrame(data)\n",
    "\n",
    "# Display basic info about the dataframe\n",
    "print(f\"DataFrame created with {len(df)} rows and {len(df.columns)} columns\")\n",
    "print(f\"Columns: {list(df.columns)}\")\n",
    "print(\"\\nFirst 3 rows:\")\n",
    "print(df.head(3))"
   ]
  },
  {
   "cell_type": "markdown",
   "id": "ea9ceddc",
   "metadata": {},
   "source": [
    "### Map and get the correct answer based on the cop column"
   ]
  },
  {
   "cell_type": "code",
   "execution_count": 9,
   "id": "a06462a7",
   "metadata": {},
   "outputs": [
    {
     "name": "stdout",
     "output_type": "stream",
     "text": [
      "Sample of the new correct_answer column:\n"
     ]
    },
    {
     "data": {
      "text/html": [
       "<div>\n",
       "<style scoped>\n",
       "    .dataframe tbody tr th:only-of-type {\n",
       "        vertical-align: middle;\n",
       "    }\n",
       "\n",
       "    .dataframe tbody tr th {\n",
       "        vertical-align: top;\n",
       "    }\n",
       "\n",
       "    .dataframe thead th {\n",
       "        text-align: right;\n",
       "    }\n",
       "</style>\n",
       "<table border=\"1\" class=\"dataframe\">\n",
       "  <thead>\n",
       "    <tr style=\"text-align: right;\">\n",
       "      <th></th>\n",
       "      <th>question</th>\n",
       "      <th>exp</th>\n",
       "      <th>cop</th>\n",
       "      <th>opa</th>\n",
       "      <th>opb</th>\n",
       "      <th>opc</th>\n",
       "      <th>opd</th>\n",
       "      <th>correct_answer</th>\n",
       "    </tr>\n",
       "  </thead>\n",
       "  <tbody>\n",
       "    <tr>\n",
       "      <th>0</th>\n",
       "      <td>Chronic urethral obstruction due to benign pri...</td>\n",
       "      <td>Chronic urethral obstruction because of urinar...</td>\n",
       "      <td>3</td>\n",
       "      <td>Hyperplasia</td>\n",
       "      <td>Hyperophy</td>\n",
       "      <td>Atrophy</td>\n",
       "      <td>Dyplasia</td>\n",
       "      <td>Atrophy</td>\n",
       "    </tr>\n",
       "    <tr>\n",
       "      <th>1</th>\n",
       "      <td>Which vitamin is supplied from only animal sou...</td>\n",
       "      <td>Ans. (c) Vitamin B12 Ref: Harrison's 19th ed. ...</td>\n",
       "      <td>3</td>\n",
       "      <td>Vitamin C</td>\n",
       "      <td>Vitamin B7</td>\n",
       "      <td>Vitamin B12</td>\n",
       "      <td>Vitamin D</td>\n",
       "      <td>Vitamin B12</td>\n",
       "    </tr>\n",
       "    <tr>\n",
       "      <th>2</th>\n",
       "      <td>All of the following are surgical options for ...</td>\n",
       "      <td>Ans. is 'd' i.e., Roux en Y Duodenal Bypass Ba...</td>\n",
       "      <td>4</td>\n",
       "      <td>Adjustable gastric banding</td>\n",
       "      <td>Biliopancreatic diversion</td>\n",
       "      <td>Duodenal Switch</td>\n",
       "      <td>Roux en Y Duodenal By pass</td>\n",
       "      <td>Roux en Y Duodenal By pass</td>\n",
       "    </tr>\n",
       "    <tr>\n",
       "      <th>3</th>\n",
       "      <td>Following endaerectomy on the right common car...</td>\n",
       "      <td>The central aery of the retina is a branch of ...</td>\n",
       "      <td>1</td>\n",
       "      <td>Central aery of the retina</td>\n",
       "      <td>Infraorbital aery</td>\n",
       "      <td>Lacrimal aery</td>\n",
       "      <td>Nasociliary aretry</td>\n",
       "      <td>Central aery of the retina</td>\n",
       "    </tr>\n",
       "    <tr>\n",
       "      <th>4</th>\n",
       "      <td>Growth hormone has its effect on growth through?</td>\n",
       "      <td>Ans. is 'b' i.e., IGI-1GH has two major functi...</td>\n",
       "      <td>2</td>\n",
       "      <td>Directly</td>\n",
       "      <td>IG1-1</td>\n",
       "      <td>Thyroxine</td>\n",
       "      <td>Intranuclear receptors</td>\n",
       "      <td>IG1-1</td>\n",
       "    </tr>\n",
       "  </tbody>\n",
       "</table>\n",
       "</div>"
      ],
      "text/plain": [
       "                                            question  \\\n",
       "0  Chronic urethral obstruction due to benign pri...   \n",
       "1  Which vitamin is supplied from only animal sou...   \n",
       "2  All of the following are surgical options for ...   \n",
       "3  Following endaerectomy on the right common car...   \n",
       "4   Growth hormone has its effect on growth through?   \n",
       "\n",
       "                                                 exp  cop  \\\n",
       "0  Chronic urethral obstruction because of urinar...    3   \n",
       "1  Ans. (c) Vitamin B12 Ref: Harrison's 19th ed. ...    3   \n",
       "2  Ans. is 'd' i.e., Roux en Y Duodenal Bypass Ba...    4   \n",
       "3  The central aery of the retina is a branch of ...    1   \n",
       "4  Ans. is 'b' i.e., IGI-1GH has two major functi...    2   \n",
       "\n",
       "                          opa                        opb              opc  \\\n",
       "0                 Hyperplasia                  Hyperophy          Atrophy   \n",
       "1                   Vitamin C                 Vitamin B7      Vitamin B12   \n",
       "2  Adjustable gastric banding  Biliopancreatic diversion  Duodenal Switch   \n",
       "3  Central aery of the retina          Infraorbital aery    Lacrimal aery   \n",
       "4                    Directly                      IG1-1        Thyroxine   \n",
       "\n",
       "                          opd              correct_answer  \n",
       "0                    Dyplasia                     Atrophy  \n",
       "1                   Vitamin D                 Vitamin B12  \n",
       "2  Roux en Y Duodenal By pass  Roux en Y Duodenal By pass  \n",
       "3          Nasociliary aretry  Central aery of the retina  \n",
       "4      Intranuclear receptors                       IG1-1  "
      ]
     },
     "execution_count": 9,
     "metadata": {},
     "output_type": "execute_result"
    }
   ],
   "source": [
    "# df['cop'].value_counts()\n",
    "cop_mapping = {\n",
    "    1: 'opa',\n",
    "    2: 'opb', \n",
    "    3: 'opc',\n",
    "    4: 'opd'\n",
    "}\n",
    "\n",
    "# Create correct_answer column by mapping cop to the corresponding option column\n",
    "df['correct_answer'] = df.apply(lambda row: row[cop_mapping.get(row['cop'], 'opa')], axis=1)\n",
    "\n",
    "# Display results\n",
    "print(\"Sample of the new correct_answer column:\")\n",
    "df.head()"
   ]
  },
  {
   "cell_type": "code",
   "execution_count": 10,
   "id": "0580b1a7",
   "metadata": {},
   "outputs": [
    {
     "name": "stdout",
     "output_type": "stream",
     "text": [
      "✅ Saved as CSV: /Users/bytedance/Desktop/medmcqa/extracted_medmcqa.csv\n"
     ]
    }
   ],
   "source": [
    "import os\n",
    "\n",
    "# Define the base filename\n",
    "base_filename = 'extracted_medmcqa'\n",
    "base_path = '/Users/bytedance/Desktop/medmcqa/'\n",
    "\n",
    "# Save as CSV\n",
    "csv_path = os.path.join(base_path, f'{base_filename}.csv')\n",
    "df.to_csv(csv_path, index=False)\n",
    "print(f\"✅ Saved as CSV: {csv_path}\")"
   ]
  }
 ],
 "metadata": {
  "kernelspec": {
   "display_name": "Python 3",
   "language": "python",
   "name": "python3"
  },
  "language_info": {
   "codemirror_mode": {
    "name": "ipython",
    "version": 3
   },
   "file_extension": ".py",
   "mimetype": "text/x-python",
   "name": "python",
   "nbconvert_exporter": "python",
   "pygments_lexer": "ipython3",
   "version": "3.9.6"
  }
 },
 "nbformat": 4,
 "nbformat_minor": 5
}
